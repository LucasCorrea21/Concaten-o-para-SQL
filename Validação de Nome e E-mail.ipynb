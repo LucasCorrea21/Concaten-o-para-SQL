{
 "cells": [
  {
   "cell_type": "markdown",
   "id": "de068fd9",
   "metadata": {},
   "source": [
    "#Validação de Nome e E-mail."
   ]
  },
  {
   "cell_type": "code",
   "execution_count": null,
   "id": "ea73363a",
   "metadata": {},
   "outputs": [],
   "source": [
    "nome = input(\"Digite seu nome\")\n",
    "email = input(\"Digite um e-mail válido\")\n",
    "\n",
    "if nome and email:\n",
    "    pos = email.find(\"@\")\n",
    "    serv = email[pos:]\n",
    "    if pos != -1 and '.' in serv:\n",
    "        print(\"Cadastro concluído\")\n",
    "    else: (\"E-mail inválido\")\n",
    "else:\n",
    "    print(\"Digite seu nome e e-mail corretamente\")"
   ]
  },
  {
   "cell_type": "code",
   "execution_count": null,
   "id": "20ea1ae5",
   "metadata": {},
   "outputs": [],
   "source": []
  }
 ],
 "metadata": {
  "kernelspec": {
   "display_name": "Python 3",
   "language": "python",
   "name": "python3"
  },
  "language_info": {
   "codemirror_mode": {
    "name": "ipython",
    "version": 3
   },
   "file_extension": ".py",
   "mimetype": "text/x-python",
   "name": "python",
   "nbconvert_exporter": "python",
   "pygments_lexer": "ipython3",
   "version": "3.8.8"
  }
 },
 "nbformat": 4,
 "nbformat_minor": 5
}
